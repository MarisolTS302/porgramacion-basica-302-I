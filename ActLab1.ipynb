{
  "nbformat": 4,
  "nbformat_minor": 0,
  "metadata": {
    "colab": {
      "provenance": [],
      "toc_visible": true,
      "authorship_tag": "ABX9TyN2mTNQHut0c/xAfVU+RtwZ",
      "include_colab_link": true
    },
    "kernelspec": {
      "name": "python3",
      "display_name": "Python 3"
    },
    "language_info": {
      "name": "python"
    }
  },
  "cells": [
    {
      "cell_type": "markdown",
      "metadata": {
        "id": "view-in-github",
        "colab_type": "text"
      },
      "source": [
        "<a href=\"https://colab.research.google.com/github/MarisolTS302/porgramacion-basica-302-I/blob/main/ActLab1.ipynb\" target=\"_parent\"><img src=\"https://colab.research.google.com/assets/colab-badge.svg\" alt=\"Open In Colab\"/></a>"
      ]
    },
    {
      "cell_type": "code",
      "source": [
        "Actividad de Laboratorio 1 impresion de mensajes"
      ],
      "metadata": {
        "id": "dIdtEN96xudV"
      },
      "execution_count": null,
      "outputs": []
    },
    {
      "cell_type": "markdown",
      "source": [],
      "metadata": {
        "id": "CdSszM7PxtvD"
      }
    },
    {
      "cell_type": "markdown",
      "source": [
        "PB302_1.CPP PROGRAMA PARA BIENVENIDA"
      ],
      "metadata": {
        "id": "DFARTyxAmKss"
      }
    },
    {
      "cell_type": "code",
      "execution_count": null,
      "metadata": {
        "colab": {
          "base_uri": "https://localhost:8080/",
          "height": 106
        },
        "id": "Cf-dgDqllkws",
        "outputId": "b16bc436-c156-4a41-d5e3-045c9bf3111c"
      },
      "outputs": [
        {
          "output_type": "error",
          "ename": "SyntaxError",
          "evalue": "invalid syntax (ipython-input-570081128.py, line 3)",
          "traceback": [
            "\u001b[0;36m  File \u001b[0;32m\"/tmp/ipython-input-570081128.py\"\u001b[0;36m, line \u001b[0;32m3\u001b[0m\n\u001b[0;31m    cout<<\"bienvenidos a programacion basica en c++\\n\";\u001b[0m\n\u001b[0m                                                      ^\u001b[0m\n\u001b[0;31mSyntaxError\u001b[0m\u001b[0;31m:\u001b[0m invalid syntax\n"
          ]
        }
      ],
      "source": [
        "%%writefile PB302_1.cpp\n",
        "//programa para imprimir mensaje de bienvenida\n",
        "//crea;do por Marisol Tamayo Solis\n",
        "//fecha: 15/septiembre/2025\n",
        "//PB302_1.cpp\n",
        "#include <iostream>\n",
        "using namespace std\n",
        "int main()\n",
        "{\n",
        "  cout<<\"bienvenidos a programacion basica en c++\\n\";\n",
        "  cout<<\"gracias por programar en clase\";\n",
        "  return 0;\n",
        "}\n"
      ]
    },
    {
      "cell_type": "code",
      "source": [
        "!g++ PB302_1.cpp -o PB302_1\n",
        "!./PB302_1"
      ],
      "metadata": {
        "colab": {
          "base_uri": "https://localhost:8080/"
        },
        "id": "Pd5idipBpvOJ",
        "outputId": "fc44f2b7-a5dc-4656-c55a-2bef2473ba3a"
      },
      "execution_count": null,
      "outputs": [
        {
          "output_type": "stream",
          "name": "stdout",
          "text": [
            "bienvenidos a programacion basica en c++\n",
            "gracias por programar en clase"
          ]
        }
      ]
    },
    {
      "cell_type": "markdown",
      "source": [
        "PB302_2.cpp Programa para imprimir datos personales"
      ],
      "metadata": {
        "id": "Lcqn-cnuqzlk"
      }
    },
    {
      "cell_type": "code",
      "source": [
        "%%writefile PB302_2.cpp\n",
        "//programa para mostrar datos personales\n",
        "//creado por Marisol Tamayo Solis\n",
        "//fecha:18/septiembre/2025\n",
        "//PB302_2.cpp\n",
        "#include <iostream>\n",
        "using namespace std;\n",
        "int main ()\n",
        "{\n",
        "  char nombre[10]=\"Marisol\";\n",
        "  char paterno[10]=\"Tamayo\";\n",
        "  char materno[10]=\"Solis\";\n",
        "  int edad=17;\n",
        "  char direccion[40]=\"centro\";\n",
        "  char fechanac[11]=\"17/08/2008\";\n",
        "  char ciudadnac[10]=\"cd juarez\";\n",
        "  cout<<\"tu nombre completo es:\\n\";\n",
        "  cout<<nombre<<\"\\n\";\n",
        "  cout<<paterno<<\"\\n\";\n",
        "  cout<<materno<<\"\\n\";\n",
        "  cout<<edad<<\"\\n\";\n",
        "  cout<<direccion<<\"\\n\";\n",
        "  cout<<fechanac<<\"\\n\";\n",
        "  cout<<ciudadnac<<\"\\n\";\n",
        "\n",
        "\n",
        "  return 0;\n",
        "\n",
        "}"
      ],
      "metadata": {
        "id": "rX8uWnsQxjoj",
        "colab": {
          "base_uri": "https://localhost:8080/"
        },
        "outputId": "7b9d1037-d9dc-410e-e46b-05ee3efed339"
      },
      "execution_count": 18,
      "outputs": [
        {
          "output_type": "stream",
          "name": "stdout",
          "text": [
            "Overwriting PB302_2.cpp\n"
          ]
        }
      ]
    },
    {
      "cell_type": "code",
      "source": [
        "!g++ PB302_2.cpp -o PB302_2.exe\n",
        "!./PB302_2.exe"
      ],
      "metadata": {
        "colab": {
          "base_uri": "https://localhost:8080/"
        },
        "id": "enf9t19wwkyz",
        "outputId": "4b0da964-8461-45f4-ce2f-021fbddaec0f"
      },
      "execution_count": 19,
      "outputs": [
        {
          "output_type": "stream",
          "name": "stdout",
          "text": [
            "tu nombre completo es:\n",
            "Marisol\n",
            "Tamayo\n",
            "Solis\n",
            "17\n",
            "centro\n",
            "17/08/2008\n",
            "cd juarez\n"
          ]
        }
      ]
    }
  ]
}